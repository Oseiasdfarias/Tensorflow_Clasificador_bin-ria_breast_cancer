{
 "cells": [
  {
   "cell_type": "markdown",
   "id": "5be97801",
   "metadata": {},
   "source": [
    "# Seção 4: Classificação binária - base breast cancer"
   ]
  },
  {
   "cell_type": "markdown",
   "id": "bc143916",
   "metadata": {},
   "source": [
    "### Carregamento dos dados utilizando o pandas"
   ]
  },
  {
   "cell_type": "code",
   "execution_count": 1,
   "id": "567cc506",
   "metadata": {},
   "outputs": [],
   "source": [
    "import pandas as pd\n",
    "\n",
    "previsores = pd.read_csv(\"./entradas_breast.csv\")\n",
    "classe = pd.read_csv(\"./saidas_breast.csv\")"
   ]
  },
  {
   "cell_type": "code",
   "execution_count": 2,
   "id": "48fef64d",
   "metadata": {},
   "outputs": [],
   "source": [
    "from sklearn.model_selection import train_test_split"
   ]
  },
  {
   "cell_type": "code",
   "execution_count": 3,
   "id": "2266ff7b",
   "metadata": {},
   "outputs": [],
   "source": [
    "prev_train, prev_test, class_train, class_test = train_test_split(previsores, classe, test_size=0.25)"
   ]
  },
  {
   "cell_type": "code",
   "execution_count": 23,
   "id": "c287f9f0",
   "metadata": {},
   "outputs": [
    {
     "data": {
      "text/plain": [
       "(143, 30)"
      ]
     },
     "execution_count": 23,
     "metadata": {},
     "output_type": "execute_result"
    }
   ],
   "source": [
    "prev_test.shape"
   ]
  },
  {
   "cell_type": "markdown",
   "id": "6133a673",
   "metadata": {},
   "source": [
    "### Criando o modelo de Machine Learning"
   ]
  },
  {
   "cell_type": "code",
   "execution_count": 18,
   "id": "9640232a",
   "metadata": {},
   "outputs": [],
   "source": [
    "import keras\n",
    "from keras.models import Sequential\n",
    "from keras.layers import Dense"
   ]
  },
  {
   "cell_type": "code",
   "execution_count": 19,
   "id": "7b2fd043",
   "metadata": {},
   "outputs": [],
   "source": [
    "classificador = Sequential()\n",
    "classificador.add(Dense(units = 16, activation = \"relu\", \n",
    "                            kernel_initializer = \"random_uniform\", input_dim = 30))\n",
    "classificador.add(Dense(units = 1, activation = \"sigmoid\"))"
   ]
  },
  {
   "cell_type": "markdown",
   "id": "1ef41853",
   "metadata": {},
   "source": [
    "### Compilando o modelo para o treinamento "
   ]
  },
  {
   "cell_type": "code",
   "execution_count": 20,
   "id": "fcfbff00",
   "metadata": {},
   "outputs": [],
   "source": [
    "classificador.compile(optimizer = \"adam\", loss = \"binary_crossentropy\", metrics = [\"binary_accuracy\"])"
   ]
  },
  {
   "cell_type": "markdown",
   "id": "52861a45",
   "metadata": {},
   "source": [
    "### Fazendo o treinamento da Rede Neural"
   ]
  },
  {
   "cell_type": "code",
   "execution_count": 21,
   "id": "36ce2ba9",
   "metadata": {
    "scrolled": true
   },
   "outputs": [
    {
     "name": "stdout",
     "output_type": "stream",
     "text": [
      "Epoch 1/100\n",
      "43/43 [==============================] - 1s 7ms/step - loss: 39.2478 - binary_accuracy: 0.4678\n",
      "Epoch 2/100\n",
      "43/43 [==============================] - 0s 5ms/step - loss: 1.8951 - binary_accuracy: 0.7008\n",
      "Epoch 3/100\n",
      "43/43 [==============================] - 0s 6ms/step - loss: 0.6832 - binary_accuracy: 0.7940\n",
      "Epoch 4/100\n",
      "43/43 [==============================] - 0s 4ms/step - loss: 0.3858 - binary_accuracy: 0.8773\n",
      "Epoch 5/100\n",
      "43/43 [==============================] - 0s 5ms/step - loss: 0.4903 - binary_accuracy: 0.8542\n",
      "Epoch 6/100\n",
      "43/43 [==============================] - 0s 6ms/step - loss: 0.3656 - binary_accuracy: 0.8664\n",
      "Epoch 7/100\n",
      "43/43 [==============================] - 0s 6ms/step - loss: 0.4112 - binary_accuracy: 0.8695\n",
      "Epoch 8/100\n",
      "43/43 [==============================] - 0s 5ms/step - loss: 0.4080 - binary_accuracy: 0.8502\n",
      "Epoch 9/100\n",
      "43/43 [==============================] - 0s 6ms/step - loss: 0.5757 - binary_accuracy: 0.7896\n",
      "Epoch 10/100\n",
      "43/43 [==============================] - 0s 5ms/step - loss: 0.3852 - binary_accuracy: 0.8846\n",
      "Epoch 11/100\n",
      "43/43 [==============================] - 0s 5ms/step - loss: 0.3716 - binary_accuracy: 0.8696\n",
      "Epoch 12/100\n",
      "43/43 [==============================] - 0s 5ms/step - loss: 0.5519 - binary_accuracy: 0.8632\n",
      "Epoch 13/100\n",
      "43/43 [==============================] - 0s 5ms/step - loss: 0.2965 - binary_accuracy: 0.8978\n",
      "Epoch 14/100\n",
      "43/43 [==============================] - 0s 5ms/step - loss: 0.3451 - binary_accuracy: 0.9011\n",
      "Epoch 15/100\n",
      "43/43 [==============================] - 0s 5ms/step - loss: 0.5593 - binary_accuracy: 0.8476\n",
      "Epoch 16/100\n",
      "43/43 [==============================] - 0s 6ms/step - loss: 1.5446 - binary_accuracy: 0.7726\n",
      "Epoch 17/100\n",
      "43/43 [==============================] - 0s 6ms/step - loss: 0.3966 - binary_accuracy: 0.9000\n",
      "Epoch 18/100\n",
      "43/43 [==============================] - 0s 6ms/step - loss: 0.6050 - binary_accuracy: 0.8744\n",
      "Epoch 19/100\n",
      "43/43 [==============================] - 0s 5ms/step - loss: 0.1758 - binary_accuracy: 0.9351\n",
      "Epoch 20/100\n",
      "43/43 [==============================] - 0s 6ms/step - loss: 0.3110 - binary_accuracy: 0.9030\n",
      "Epoch 21/100\n",
      "43/43 [==============================] - 0s 6ms/step - loss: 0.5677 - binary_accuracy: 0.8760\n",
      "Epoch 22/100\n",
      "43/43 [==============================] - 0s 7ms/step - loss: 0.3162 - binary_accuracy: 0.9025\n",
      "Epoch 23/100\n",
      "43/43 [==============================] - 0s 5ms/step - loss: 0.2550 - binary_accuracy: 0.9197\n",
      "Epoch 24/100\n",
      "43/43 [==============================] - 0s 6ms/step - loss: 0.2571 - binary_accuracy: 0.9149\n",
      "Epoch 25/100\n",
      "43/43 [==============================] - 0s 6ms/step - loss: 0.8764 - binary_accuracy: 0.8154\n",
      "Epoch 26/100\n",
      "43/43 [==============================] - 0s 5ms/step - loss: 0.5512 - binary_accuracy: 0.8772\n",
      "Epoch 27/100\n",
      "43/43 [==============================] - 0s 6ms/step - loss: 0.3855 - binary_accuracy: 0.9005\n",
      "Epoch 28/100\n",
      "43/43 [==============================] - 0s 6ms/step - loss: 0.3032 - binary_accuracy: 0.9082\n",
      "Epoch 29/100\n",
      "43/43 [==============================] - 0s 6ms/step - loss: 0.2561 - binary_accuracy: 0.9403\n",
      "Epoch 30/100\n",
      "43/43 [==============================] - 0s 6ms/step - loss: 0.4231 - binary_accuracy: 0.8822\n",
      "Epoch 31/100\n",
      "43/43 [==============================] - 0s 6ms/step - loss: 0.7548 - binary_accuracy: 0.8904\n",
      "Epoch 32/100\n",
      "43/43 [==============================] - 0s 6ms/step - loss: 0.3017 - binary_accuracy: 0.9039\n",
      "Epoch 33/100\n",
      "43/43 [==============================] - 0s 6ms/step - loss: 0.2653 - binary_accuracy: 0.9111\n",
      "Epoch 34/100\n",
      "43/43 [==============================] - 0s 5ms/step - loss: 0.2878 - binary_accuracy: 0.8996\n",
      "Epoch 35/100\n",
      "43/43 [==============================] - 0s 5ms/step - loss: 0.3603 - binary_accuracy: 0.9058\n",
      "Epoch 36/100\n",
      "43/43 [==============================] - 0s 6ms/step - loss: 0.2824 - binary_accuracy: 0.9061\n",
      "Epoch 37/100\n",
      "43/43 [==============================] - 0s 6ms/step - loss: 0.2518 - binary_accuracy: 0.9276\n",
      "Epoch 38/100\n",
      "43/43 [==============================] - 0s 5ms/step - loss: 0.2823 - binary_accuracy: 0.9155\n",
      "Epoch 39/100\n",
      "43/43 [==============================] - 0s 6ms/step - loss: 0.3074 - binary_accuracy: 0.9162\n",
      "Epoch 40/100\n",
      "43/43 [==============================] - 0s 5ms/step - loss: 0.2829 - binary_accuracy: 0.9044\n",
      "Epoch 41/100\n",
      "43/43 [==============================] - 0s 6ms/step - loss: 0.2270 - binary_accuracy: 0.9473\n",
      "Epoch 42/100\n",
      "43/43 [==============================] - 0s 5ms/step - loss: 0.3225 - binary_accuracy: 0.9224\n",
      "Epoch 43/100\n",
      "43/43 [==============================] - 0s 6ms/step - loss: 0.5436 - binary_accuracy: 0.8716\n",
      "Epoch 44/100\n",
      "43/43 [==============================] - 0s 5ms/step - loss: 0.3538 - binary_accuracy: 0.9044\n",
      "Epoch 45/100\n",
      "43/43 [==============================] - 0s 5ms/step - loss: 0.3209 - binary_accuracy: 0.9105\n",
      "Epoch 46/100\n",
      "43/43 [==============================] - 0s 5ms/step - loss: 0.2102 - binary_accuracy: 0.9424\n",
      "Epoch 47/100\n",
      "43/43 [==============================] - 0s 5ms/step - loss: 0.3086 - binary_accuracy: 0.9175\n",
      "Epoch 48/100\n",
      "43/43 [==============================] - 0s 5ms/step - loss: 0.3344 - binary_accuracy: 0.9063\n",
      "Epoch 49/100\n",
      "43/43 [==============================] - 0s 5ms/step - loss: 0.2315 - binary_accuracy: 0.9185\n",
      "Epoch 50/100\n",
      "43/43 [==============================] - 0s 5ms/step - loss: 0.2781 - binary_accuracy: 0.8939\n",
      "Epoch 51/100\n",
      "43/43 [==============================] - 0s 5ms/step - loss: 0.3012 - binary_accuracy: 0.9262\n",
      "Epoch 52/100\n",
      "43/43 [==============================] - 0s 6ms/step - loss: 1.2454 - binary_accuracy: 0.8297\n",
      "Epoch 53/100\n",
      "43/43 [==============================] - 0s 6ms/step - loss: 0.4734 - binary_accuracy: 0.8956\n",
      "Epoch 54/100\n",
      "43/43 [==============================] - 0s 6ms/step - loss: 0.2882 - binary_accuracy: 0.9367\n",
      "Epoch 55/100\n",
      "43/43 [==============================] - 0s 5ms/step - loss: 0.2336 - binary_accuracy: 0.9263\n",
      "Epoch 56/100\n",
      "43/43 [==============================] - 0s 5ms/step - loss: 0.7828 - binary_accuracy: 0.8514\n",
      "Epoch 57/100\n",
      "43/43 [==============================] - 0s 6ms/step - loss: 0.5815 - binary_accuracy: 0.8945\n",
      "Epoch 58/100\n",
      "43/43 [==============================] - 0s 6ms/step - loss: 0.4571 - binary_accuracy: 0.8862\n",
      "Epoch 59/100\n",
      "43/43 [==============================] - 0s 5ms/step - loss: 0.2648 - binary_accuracy: 0.9360\n",
      "Epoch 60/100\n",
      "43/43 [==============================] - 0s 5ms/step - loss: 0.1969 - binary_accuracy: 0.9254\n",
      "Epoch 61/100\n",
      "43/43 [==============================] - 0s 5ms/step - loss: 0.6114 - binary_accuracy: 0.8800\n",
      "Epoch 62/100\n",
      "43/43 [==============================] - 0s 5ms/step - loss: 0.2739 - binary_accuracy: 0.9405\n",
      "Epoch 63/100\n",
      "43/43 [==============================] - 0s 6ms/step - loss: 0.2902 - binary_accuracy: 0.9214\n",
      "Epoch 64/100\n",
      "43/43 [==============================] - 0s 6ms/step - loss: 0.3030 - binary_accuracy: 0.9183\n",
      "Epoch 65/100\n",
      "43/43 [==============================] - 0s 4ms/step - loss: 0.2913 - binary_accuracy: 0.8954\n",
      "Epoch 66/100\n",
      "43/43 [==============================] - 0s 6ms/step - loss: 0.3247 - binary_accuracy: 0.9040\n",
      "Epoch 67/100\n",
      "43/43 [==============================] - 0s 7ms/step - loss: 0.2311 - binary_accuracy: 0.9298\n",
      "Epoch 68/100\n",
      "43/43 [==============================] - 0s 6ms/step - loss: 0.1817 - binary_accuracy: 0.9442\n",
      "Epoch 69/100\n",
      "43/43 [==============================] - 0s 5ms/step - loss: 0.1331 - binary_accuracy: 0.9646\n",
      "Epoch 70/100\n",
      "43/43 [==============================] - 0s 6ms/step - loss: 0.6057 - binary_accuracy: 0.8881\n",
      "Epoch 71/100\n",
      "43/43 [==============================] - 0s 7ms/step - loss: 0.2409 - binary_accuracy: 0.9237 ETA: 0s - loss: 0.2132 - binary_accuracy: 0.9\n",
      "Epoch 72/100\n",
      "43/43 [==============================] - 0s 6ms/step - loss: 0.2189 - binary_accuracy: 0.9338\n",
      "Epoch 73/100\n",
      "43/43 [==============================] - 0s 7ms/step - loss: 0.3340 - binary_accuracy: 0.9068\n",
      "Epoch 74/100\n",
      "43/43 [==============================] - 0s 7ms/step - loss: 0.2247 - binary_accuracy: 0.9305A: 0s - loss: 0.3148 - binary_accuracy: 0\n",
      "Epoch 75/100\n",
      "43/43 [==============================] - 0s 5ms/step - loss: 0.3534 - binary_accuracy: 0.9009\n",
      "Epoch 76/100\n",
      "43/43 [==============================] - 0s 7ms/step - loss: 0.2092 - binary_accuracy: 0.9372\n",
      "Epoch 77/100\n",
      "43/43 [==============================] - 0s 5ms/step - loss: 0.3237 - binary_accuracy: 0.9319\n",
      "Epoch 78/100\n",
      "43/43 [==============================] - 0s 6ms/step - loss: 0.3444 - binary_accuracy: 0.8980\n",
      "Epoch 79/100\n",
      "43/43 [==============================] - 0s 5ms/step - loss: 0.6606 - binary_accuracy: 0.8412\n",
      "Epoch 80/100\n",
      "43/43 [==============================] - 0s 3ms/step - loss: 0.2695 - binary_accuracy: 0.9339\n",
      "Epoch 81/100\n",
      "43/43 [==============================] - 0s 4ms/step - loss: 0.1901 - binary_accuracy: 0.9507\n",
      "Epoch 82/100\n",
      "43/43 [==============================] - 0s 5ms/step - loss: 0.2439 - binary_accuracy: 0.9137\n",
      "Epoch 83/100\n",
      "43/43 [==============================] - 0s 7ms/step - loss: 0.1353 - binary_accuracy: 0.9561\n",
      "Epoch 84/100\n",
      "43/43 [==============================] - 0s 6ms/step - loss: 0.2276 - binary_accuracy: 0.9298\n",
      "Epoch 85/100\n",
      "43/43 [==============================] - 0s 5ms/step - loss: 0.2231 - binary_accuracy: 0.9286\n",
      "Epoch 86/100\n",
      "43/43 [==============================] - 0s 5ms/step - loss: 0.1681 - binary_accuracy: 0.9466\n",
      "Epoch 87/100\n",
      "43/43 [==============================] - 0s 4ms/step - loss: 0.4222 - binary_accuracy: 0.9043\n",
      "Epoch 88/100\n",
      "43/43 [==============================] - 0s 6ms/step - loss: 0.7635 - binary_accuracy: 0.8824\n",
      "Epoch 89/100\n",
      "43/43 [==============================] - 0s 6ms/step - loss: 0.2829 - binary_accuracy: 0.9290\n",
      "Epoch 90/100\n",
      "43/43 [==============================] - 0s 5ms/step - loss: 0.2862 - binary_accuracy: 0.9005\n",
      "Epoch 91/100\n",
      "43/43 [==============================] - 0s 6ms/step - loss: 0.3185 - binary_accuracy: 0.9207\n",
      "Epoch 92/100\n",
      "43/43 [==============================] - 0s 6ms/step - loss: 0.2584 - binary_accuracy: 0.9161\n",
      "Epoch 93/100\n",
      "43/43 [==============================] - 0s 5ms/step - loss: 0.3808 - binary_accuracy: 0.8954\n",
      "Epoch 94/100\n",
      "43/43 [==============================] - 0s 5ms/step - loss: 0.1897 - binary_accuracy: 0.9493\n",
      "Epoch 95/100\n",
      "43/43 [==============================] - 0s 4ms/step - loss: 0.2210 - binary_accuracy: 0.9188\n",
      "Epoch 96/100\n",
      "43/43 [==============================] - 0s 6ms/step - loss: 0.2401 - binary_accuracy: 0.9198\n",
      "Epoch 97/100\n",
      "43/43 [==============================] - 0s 5ms/step - loss: 0.2733 - binary_accuracy: 0.9261\n",
      "Epoch 98/100\n",
      "43/43 [==============================] - 0s 5ms/step - loss: 0.3126 - binary_accuracy: 0.9223\n",
      "Epoch 99/100\n",
      "43/43 [==============================] - 0s 4ms/step - loss: 0.3465 - binary_accuracy: 0.9310\n",
      "Epoch 100/100\n",
      "43/43 [==============================] - 0s 7ms/step - loss: 0.2272 - binary_accuracy: 0.9193\n"
     ]
    },
    {
     "data": {
      "text/plain": [
       "<tensorflow.python.keras.callbacks.History at 0x7f83a53759a0>"
      ]
     },
     "execution_count": 21,
     "metadata": {},
     "output_type": "execute_result"
    }
   ],
   "source": [
    "classificador.fit(prev_train, class_train, batch_size = 10, epochs = 100)"
   ]
  },
  {
   "cell_type": "markdown",
   "id": "a36cea23",
   "metadata": {},
   "source": [
    "### Validando o resultado com o dataset de teste utilizando o próprio Keras"
   ]
  },
  {
   "cell_type": "code",
   "execution_count": 24,
   "id": "2efe8975",
   "metadata": {},
   "outputs": [
    {
     "name": "stdout",
     "output_type": "stream",
     "text": [
      "1/1 [==============================] - 0s 227ms/step - loss: 0.8505 - binary_accuracy: 0.9161\n",
      "test loss, test acc: [0.8504778742790222, 0.9160839319229126]\n"
     ]
    }
   ],
   "source": [
    "results = classificador.evaluate(prev_test, class_test, batch_size = 143)\n",
    "print(\"test loss, test acc:\", results)\n"
   ]
  },
  {
   "cell_type": "code",
   "execution_count": 25,
   "id": "2b6d67c1",
   "metadata": {},
   "outputs": [
    {
     "name": "stdout",
     "output_type": "stream",
     "text": [
      "[[0.99999905]\n",
      " [0.00482655]\n",
      " [1.        ]]\n"
     ]
    }
   ],
   "source": [
    "previsoes = classificador.predict(prev_test[:3])\n",
    "print(previsoes)"
   ]
  },
  {
   "cell_type": "markdown",
   "id": "d60a831e",
   "metadata": {},
   "source": [
    "### Validando o resultado com o dataset de teste com auxílio do Sklearn"
   ]
  },
  {
   "cell_type": "code",
   "execution_count": 34,
   "id": "60b566a7",
   "metadata": {},
   "outputs": [],
   "source": [
    "previsoes = classificador.predict(prev_test)\n",
    "previsoes = (previsoes > 0.5)\n",
    "\n",
    "from sklearn.metrics import confusion_matrix, accuracy_score"
   ]
  },
  {
   "cell_type": "code",
   "execution_count": 36,
   "id": "8e8993a0",
   "metadata": {},
   "outputs": [
    {
     "name": "stdout",
     "output_type": "stream",
     "text": [
      "0.916083916083916\n"
     ]
    }
   ],
   "source": [
    "precisao = accuracy_score(class_test, previsoes)\n",
    "print(precisao)"
   ]
  },
  {
   "cell_type": "markdown",
   "id": "32ce9463",
   "metadata": {},
   "source": [
    "## Confusion Matrix "
   ]
  },
  {
   "cell_type": "code",
   "execution_count": 38,
   "id": "742b0f49",
   "metadata": {},
   "outputs": [
    {
     "name": "stdout",
     "output_type": "stream",
     "text": [
      "[[39 11]\n",
      " [ 1 92]]\n"
     ]
    }
   ],
   "source": [
    "matriz = confusion_matrix(class_test, previsoes)\n",
    "print(matriz)"
   ]
  },
  {
   "cell_type": "code",
   "execution_count": null,
   "id": "a31aa77b",
   "metadata": {},
   "outputs": [],
   "source": []
  }
 ],
 "metadata": {
  "kernelspec": {
   "display_name": "Python 3",
   "language": "python",
   "name": "python3"
  },
  "language_info": {
   "codemirror_mode": {
    "name": "ipython",
    "version": 3
   },
   "file_extension": ".py",
   "mimetype": "text/x-python",
   "name": "python",
   "nbconvert_exporter": "python",
   "pygments_lexer": "ipython3",
   "version": "3.8.5"
  }
 },
 "nbformat": 4,
 "nbformat_minor": 5
}
